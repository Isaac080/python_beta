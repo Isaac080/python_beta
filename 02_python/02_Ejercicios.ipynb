{
 "cells": [
  {
   "cell_type": "markdown",
   "metadata": {},
   "source": [
    "# Problemas 02: Las variables y los tipos de datos  "
   ]
  },
  {
   "cell_type": "markdown",
   "metadata": {},
   "source": [
    "## Operadores Ariméticos  \n",
    "1. Genera dos variables tipo caracter `str` de una longitud mayor a 10. \n",
    "2. Evalua si es posible realizar operaciones -, //, % y `**` con este tipo de variables "
   ]
  },
  {
   "cell_type": "code",
   "execution_count": 45,
   "metadata": {
    "collapsed": true
   },
   "outputs": [],
   "source": [
    "variable_1=\"\"\n",
    "variable_2=\"\""
   ]
  },
  {
   "cell_type": "markdown",
   "metadata": {},
   "source": [
    "## Operadores Condicionales 1  \n",
    "1. Utiliza cada uno de los operadores (==,!=, >,<,>=,<=) dentro de `print()` de tal forma que un resultado sea Falso y el otro verdadero.  \n",
    "* Utiliza diferentes tipos de variables: `int`, `float`, `str`.  \n",
    " Ejemplo:  \n",
    "```python \n",
    "1.0==1\n",
    "True\n",
    "1.0==\"1\"\n",
    "False\n",
    "```  \n",
    "* En total deben de ser 12 operaciones."
   ]
  },
  {
   "cell_type": "code",
   "execution_count": null,
   "metadata": {
    "collapsed": false
   },
   "outputs": [],
   "source": []
  },
  {
   "cell_type": "markdown",
   "metadata": {},
   "source": [
    "## Ejercicio: operadores condicionales 2  \n",
    "Explica brevemente dentro de la segunda `str` por qué al comparar estos caracteres da el resultado que se imprime. "
   ]
  },
  {
   "cell_type": "code",
   "execution_count": 34,
   "metadata": {
    "collapsed": false
   },
   "outputs": [
    {
     "name": "stdout",
     "output_type": "stream",
     "text": [
      "False - 'Explica aquí'\n",
      "True - \n",
      "True - \n",
      "False - \n",
      "True - \n",
      "False - \n"
     ]
    }
   ],
   "source": [
    "print \"hola a todos\"==\"hola\",\"- 'Explica aquí'\"\n",
    "print \"hola a todos\"!=\"hola\", \"- \"\n",
    "print \"hola a todos\">\"hola\", \"- \"\n",
    "print \"hola a todos\"<\"hola\", \"- \"\n",
    "print \"hola a todos\">=\"hola\", \"- \"\n",
    "print \"hola a todos\"<=\"hola\", \"- \""
   ]
  },
  {
   "cell_type": "markdown",
   "metadata": {},
   "source": [
    "# Problema: _special slicing_  \n",
    "1. Tenemos una variable con todo el alfabeto, comenta que esta sucediendo con cada una de los siguientes casos:"
   ]
  },
  {
   "cell_type": "code",
   "execution_count": 49,
   "metadata": {
    "collapsed": false
   },
   "outputs": [
    {
     "name": "stdout",
     "output_type": "stream",
     "text": [
      "behknqdv\n",
      "bfj\n",
      "acegikmoqstvxz\n",
      "agmsx\n"
     ]
    }
   ],
   "source": [
    "alfabeto=\"abcdefghijklmnopqrsdtuvwxyz\"\n",
    "print alfabeto[1:24:3] # Comenta aquí\n",
    "print alfabeto[1:12:4] # Comenta aquí\n",
    "print alfabeto[::2] # Comenta aquí\n",
    "print alfabeto[::6] # Comenta aquí"
   ]
  },
  {
   "cell_type": "markdown",
   "metadata": {},
   "source": [
    "2 imprime cada 2 y 3 letras utilizando special slicing comenzando en la posición 0 y 1. Debe de imprimirse:\n",
    "```python\n",
    "1 acegikmoqstvx\n",
    "2 bdfhjlnprduwy\n",
    "3 adgjmpsux\n",
    "4 behknqdvy\n",
    "```  \n",
    "1. cada 2 letras comenzando en 0\n",
    "2. cada 2 letras comenzando en 1\n",
    "3. cada 3 letras comenzando en 0\n",
    "4. cada 3 letras comenzando en 1"
   ]
  },
  {
   "cell_type": "code",
   "execution_count": null,
   "metadata": {
    "collapsed": false
   },
   "outputs": [],
   "source": []
  },
  {
   "cell_type": "markdown",
   "metadata": {},
   "source": [
    "# Métodos de `string` \n",
    "Supongamos que tenemos parte de una secuenciación contenida en una variable llamada `secuencia0`, debes de:\n",
    "1. Contar todas las veces que se repite 'GGT'\n",
    "2. imprimir **`hay %s G, %s A, %s C y %s T en esta secuencia`**, donde %s corresponde a la cantidad de veces que se presenta cada letra\n",
    "2. Generar una nueva secuencia con el nombre `gen_manipulacion`, donde: \n",
    "    * Sustituyas todas las `G` por `U`\n",
    "    * Extraigas todas las letras `A`\n",
    "    * Cambies las T mayusculas por minusculas\n",
    "    * Imprimas de 507 al 550"
   ]
  },
  {
   "cell_type": "code",
   "execution_count": 68,
   "metadata": {
    "collapsed": false
   },
   "outputs": [],
   "source": [
    "secuencia0=\"GGTGGTTGGTAATGGCTTCACCCACAATCTTACCAAACCCAGATACAATGTTGATCACACCAGGTGGGATACCGGCTTGAGGGATGTATTTAGAGACGTACAGTGCGGACAAAGGAGTGGATTCGGCAGTCTTCAACACAACCGTATTACCAGTGACCAATGCAGGTGCAATTTTCCAGGCCCACATCAACAATGGGAAGTTCCAAGGAATGATCTGGCCACAGACACCCAAGGGCTGTCTCTTGGTGTACGAGAAATGAGTCCTACCGGTATCGACCAGTCTACCGTCGATTTTGTCGGCAAAACCTGCAGACGATTTCAGGTAGTTAATGACCAATTCGACATCGCCCTTGGAAGATGAAATGGCCTTACCGTTGTCCAAGGTTTCAATGGACGCAATGACGTCCTTGTCCTGCTCGATCAACTCGGCCAGCCTGTACAAGGCTTTACCTCTGTTGATGGGGTCGATGCCAGACCAGGACCCGTTCGAGAACGCGCGGTCGGCGGCCTGCACGGCCTCCTCCACATCGTCCTCCCTACCTTCGTAAATGTGGCATATTTCCTCCTCCGTGGAGGGGTTGATGACTTCAAAAGTCTTGTTCTGCTTGGAGGGCACGAACTTGTTGTTAATGAACAGCCCCGTTGGCTGTTCGTACTCCAACCCATTGGGAAGCTTGATAGGGACCGTCATGGGGAGGTGCGAGAAATATCTCAATTGCAGTCTGCCGACGGAGGCGGCAGACTTCTTCAAGCAGAGCGTAGATCTACTAAACATGTTGTGCTTTCTTACTTATTTTAGTCCTTTCAATTCGTTTTTTTTTTCGAATGGTCTACCATATGACAAGCATTAACTAAACGAGAAAGAAAGAAATACCAATTGACGTTGAGAAACCCCCCGTTTATATAACCGCCCAACTCCCATTCACACGGCACACTTCTCCTCATTCTGCTTACCTACATCCGCCCCTCATTTTTCCGTCTGTTGGAGAAGAAGATCCCCCTAGACGAAGCTCCGCATTGCCGGAAAACAGCCGCGCCAT\""
   ]
  },
  {
   "cell_type": "code",
   "execution_count": 64,
   "metadata": {
    "collapsed": false
   },
   "outputs": [],
   "source": [
    "# Contar todas las veces que se repite 'GGT'\n"
   ]
  },
  {
   "cell_type": "code",
   "execution_count": 65,
   "metadata": {
    "collapsed": true
   },
   "outputs": [],
   "source": [
    "# imprimir: hay %s G, %s A, %s C y %s T en esta secuencia\n"
   ]
  },
  {
   "cell_type": "code",
   "execution_count": 67,
   "metadata": {
    "collapsed": true
   },
   "outputs": [],
   "source": [
    "# Crear la variable gen_manipulacion\n"
   ]
  },
  {
   "cell_type": "markdown",
   "metadata": {},
   "source": [
    "# Ejercicios: Operadores ariméticos"
   ]
  },
  {
   "cell_type": "markdown",
   "metadata": {},
   "source": [
    "### Ejercicio 1\n",
    "Resolver la siguiente equación asignando los valores de $40,876,5,3,9$ para _x_.  \n",
    "    $$Y = 3x + 4 + x^2$$  \n",
    "- Cuando _x_ = 40, _Y_=?, etc..."
   ]
  },
  {
   "cell_type": "code",
   "execution_count": null,
   "metadata": {
    "collapsed": true
   },
   "outputs": [],
   "source": []
  },
  {
   "cell_type": "markdown",
   "metadata": {},
   "source": [
    "### Ejercicio 2\n",
    "Cuales son los valores de _Y_ cuando _x_ vale: $\\{ 1,2,3,4,5,6,7,8,9,20 \\}$ de la siguiente función racional:  \n",
    "1. $$Y = \\frac{x^3-2x-3}{x^2-5}$$  \n",
    "\\\\\n",
    "2. $$ 3^{3^{3^3}} $$  \n",
    "\\\\\n",
    "3. $$\\frac{(5+7)^4}{\\sqrt{7}}$$  \n",
    "\\\\\n",
    "4. $$\\sqrt[3]{11}$$  \n",
    "\\\\\n",
    "5. $$7 + (6 × 52 + 3)^2$$  "
   ]
  },
  {
   "cell_type": "code",
   "execution_count": null,
   "metadata": {
    "collapsed": true
   },
   "outputs": [],
   "source": [
    "# Ejercicio 2, Operacion 1\n"
   ]
  },
  {
   "cell_type": "code",
   "execution_count": null,
   "metadata": {
    "collapsed": true
   },
   "outputs": [],
   "source": [
    "# Ejercicio 2,  Operacion 2\n"
   ]
  },
  {
   "cell_type": "code",
   "execution_count": null,
   "metadata": {
    "collapsed": true
   },
   "outputs": [],
   "source": [
    "# Ejercicio 2,  Operacion 3\n"
   ]
  },
  {
   "cell_type": "code",
   "execution_count": null,
   "metadata": {
    "collapsed": true
   },
   "outputs": [],
   "source": [
    "# Ejercicio 2,  Operacion 4\n"
   ]
  },
  {
   "cell_type": "code",
   "execution_count": null,
   "metadata": {
    "collapsed": true
   },
   "outputs": [],
   "source": [
    "# Ejercicio 2,  Operacion 5\n"
   ]
  },
  {
   "cell_type": "markdown",
   "metadata": {},
   "source": [
    "### Resuelve para _x_\n",
    "$$2x^2 -4x - 5 = 0 $$  \n",
    "Recuerda utilizar: la formula cuadrática:  $x = \\frac{-b \\pm \\sqrt {b^2-4ac}}{2a}$"
   ]
  },
  {
   "cell_type": "code",
   "execution_count": null,
   "metadata": {
    "collapsed": false
   },
   "outputs": [],
   "source": [
    "# Da las dos soluciones aquí\n"
   ]
  },
  {
   "cell_type": "markdown",
   "metadata": {},
   "source": [
    "# Ejercicio: Secuencia de operaciones 1   \n",
    "Piensa en el número de veces a la semana que te gustaria salir temprano del INB y asignalo a la variable _X_.\n",
    "\n",
    "1. Multiplíca _X_ por 2 y súmale 5\n",
    "\n",
    "2. Luego multiplícalo por 50\n",
    "\n",
    "3. Dependiendo de tu fecha de cumpleaños:\n",
    " - Si ya pasó tu fecha de cumpleaños sumale 1766\n",
    " - Si aun no ha pasado suma 1765\n",
    "\n",
    "4. Réstale el año de tu nacimiento incluyendo las 4 cifras.\n",
    "\n",
    "5. Asigna el resultado a una variable llamada _R_  \n",
    "6. Corre la siguiente celda, y magia  \n",
    "  \n",
    "**Nota** Si no hay magia hay algo mal..."
   ]
  },
  {
   "cell_type": "code",
   "execution_count": null,
   "metadata": {
    "collapsed": false
   },
   "outputs": [],
   "source": [
    "# Aqui realiza las instrucciones\n",
    "x=\n",
    "R="
   ]
  },
  {
   "cell_type": "code",
   "execution_count": null,
   "metadata": {
    "collapsed": false
   },
   "outputs": [],
   "source": [
    "print \"Quiero salir {0} veces de fiesta, pero ya tengo {1} años\".format(str(R)[0],str(R)[1:3])"
   ]
  },
  {
   "cell_type": "markdown",
   "metadata": {},
   "source": [
    "# Ejercicio; Secuencia de operaciones 2  \n",
    "El juego del ajedrez fue inventado en la India. Cuando el rey hindú Sheram lo conoció, quedó maravillado de lo ingenioso que era y de la variedad de posiciones que en él son posibles. Al enterarse de que el inventor era uno de sus súbditos, el rey lo mandó llamar con objeto de recompensarle personalmente por su acertado invento.\n",
    "El sabio, llamado Sera, contestó con una inclinación.—Soy bastante rico como para poder cumplir tu deseo más elevado —continuó diciendo el rey—. Di la recompensa que te satisfaga y la recibirás. Después de meditarlo un par de días, Seta dijo:\n",
    "—Soberano—, manda que me entreguen un grano de trigo por la primera casilla del tablero del ajedrez.\n",
    "—¿Un simple grano de trigo? —contestó admirado el rey.\n",
    "—Sí, soberano. Por la segunda casilla, ordena que me den dos granos; por la tercera, 4; por la cuarta, 8; por la quinta. 16; por la sexta, 32... —  \n",
    "1. Calcula la cantidad de granos que se obtienen por las 64 casillas  \n",
    "2. Si cada grano pesa 0.8 gramos, ¿Cuántos kilogramos son en total?  \n",
    "3. Si un kg de trigo cuesta $17.85 pesos, si vendemos todo el trigo en EUA, ¿Cuántos dolares nos darían?"
   ]
  },
  {
   "cell_type": "code",
   "execution_count": null,
   "metadata": {
    "collapsed": true
   },
   "outputs": [],
   "source": [
    "# Calcula la cantidad de granos\n"
   ]
  },
  {
   "cell_type": "code",
   "execution_count": null,
   "metadata": {
    "collapsed": true
   },
   "outputs": [],
   "source": [
    "# Calcula el peso en kilogramos\n"
   ]
  },
  {
   "cell_type": "code",
   "execution_count": 69,
   "metadata": {
    "collapsed": true
   },
   "outputs": [],
   "source": [
    "# Cuales serían tus ganancias si fueras Seta\n"
   ]
  },
  {
   "cell_type": "markdown",
   "metadata": {},
   "source": [
    "# Ejercicio: Algoritmos  \n",
    "Genera los pasos de un algoritmo que calcule con el método manual (pero automátizado), la raíz cuadrada de un número _X_. Basarse en el siguiente ejemplo:  \n",
    "![](raiz.png)\n",
    "**Ojo** No hay que resolverlo, solo escribe los pasos lógicos del algoritmo. La implementación a codigo la haremos despues."
   ]
  },
  {
   "cell_type": "code",
   "execution_count": null,
   "metadata": {
    "collapsed": true
   },
   "outputs": [],
   "source": []
  }
 ],
 "metadata": {
  "kernelspec": {
   "display_name": "Python 2",
   "language": "python",
   "name": "python2"
  },
  "language_info": {
   "codemirror_mode": {
    "name": "ipython",
    "version": 2
   },
   "file_extension": ".py",
   "mimetype": "text/x-python",
   "name": "python",
   "nbconvert_exporter": "python",
   "pygments_lexer": "ipython2",
   "version": "2.7.12"
  }
 },
 "nbformat": 4,
 "nbformat_minor": 0
}
