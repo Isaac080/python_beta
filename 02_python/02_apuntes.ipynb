{
 "cells": [
  {
   "cell_type": "markdown",
   "metadata": {},
   "source": [
    "# Clase 02: Las variables, `strings` y los tipos de datos  \n",
    "Las variables son la representación de información con las que interactuamos en el entorno computacional.  \n",
    "Las podemos manipular y trabajar con ellas, en python las podemos ver como objetos mutables, aunque hay exepciones!\n"
   ]
  },
  {
   "cell_type": "markdown",
   "metadata": {},
   "source": [
    "## `print( )`"
   ]
  },
  {
   "cell_type": "code",
   "execution_count": 19,
   "metadata": {
    "collapsed": false
   },
   "outputs": [],
   "source": [
    "# Generamos una varible tipo carácter (string)\n",
    "mi_variable=\"python es poderoso\""
   ]
  },
  {
   "cell_type": "markdown",
   "metadata": {},
   "source": [
    "## Métodos para las `strings`"
   ]
  },
  {
   "cell_type": "code",
   "execution_count": 37,
   "metadata": {
    "collapsed": false
   },
   "outputs": [
    {
     "name": "stdout",
     "output_type": "stream",
     "text": [
      "1 Python Es Poderoso\n",
      "2 PYTHON ES PODEROSO\n",
      "3 python es poderoso\n",
      "4 PYTHON ES PODEROSO\n",
      "5 Python es poderoso\n",
      "6 2\n",
      "7 python es poderos\n",
      "8 pythXn es pXderXsX\n"
     ]
    }
   ],
   "source": [
    "# Imprime nuestra variable con la primer letra en mayuscula\n",
    "print 1, mi_variable.title()\n",
    "\n",
    "# Imprime nuestra variable con todas las letras en mayusculas\n",
    "print 2, mi_variable.upper()\n",
    "\n",
    "# Imprime nuestra variable con todas las letras en minusculas\n",
    "print 3, mi_variable.lower()\n",
    "\n",
    "# Invierte las minusculas por mayusculas y visceversa\n",
    "print 4, mi_variable.swapcase()\n",
    "\n",
    "# Coloca mayuscula en el primer carácter\n",
    "print 5, mi_variable.capitalize()\n",
    "\n",
    "# Cuenta el número de veces que aparece la letra \"p\" en la variable\n",
    "print 6, mi_variable.count('p') \n",
    "\n",
    "# Remueve todas las letras \"o\"\n",
    "print 7, mi_variable.strip('o')\n",
    "\n",
    "# Reemplaza todas las letras o por X\n",
    "print 8, mi_variable.replace('o', 'X')\n",
    "nueva_variable = mi_variable.replace('o', 'X') # reemplaza las 'o' por 'X' y crea una nueva variable"
   ]
  },
  {
   "cell_type": "markdown",
   "metadata": {},
   "source": [
    "**NOTA**: para revisar más métodos y manipulaciones de una `string` revisar esta [wiki con documentación](https://en.wikibooks.org/wiki/Python_Programming/Strings)"
   ]
  },
  {
   "cell_type": "markdown",
   "metadata": {},
   "source": [
    "## Operaciones con Variables tipo `string`"
   ]
  },
  {
   "cell_type": "code",
   "execution_count": 55,
   "metadata": {
    "collapsed": false
   },
   "outputs": [
    {
     "name": "stdout",
     "output_type": "stream",
     "text": [
      "1 1.  python es poderoso, cierto?\n",
      "2.  python es poderoso, cierto?\n"
     ]
    }
   ],
   "source": [
    "# Generamos una nueva variable\n",
    "var_2=\", cierto?\"\n",
    "\n",
    "#Sumamos nuestras dos variables, esto se llama CONCATENACION\n",
    "var_3=mi_variable+var_2\n",
    "\n",
    "# Lo imprimimos de dos formas diferentes para evaluar el resultado\n",
    "print 1,\"1. \",(mi_variable+var_2) # imprime un int, un str y una suma de str\n",
    "print \"2. \",var_3"
   ]
  },
  {
   "cell_type": "markdown",
   "metadata": {},
   "source": [
    "## `type( )`"
   ]
  },
  {
   "cell_type": "code",
   "execution_count": 56,
   "metadata": {
    "collapsed": false
   },
   "outputs": [
    {
     "name": "stdout",
     "output_type": "stream",
     "text": [
      "<type 'str'> <type 'int'> <type 'float'> <type 'complex'>\n"
     ]
    }
   ],
   "source": [
    "# Funcion que evalua el tipo de variable usamos la funcion type(), por ejemplo:\n",
    "print type(\"a\"),type(1),type(1.),type(1j)"
   ]
  },
  {
   "cell_type": "code",
   "execution_count": 57,
   "metadata": {
    "collapsed": false
   },
   "outputs": [
    {
     "ename": "SyntaxError",
     "evalue": "invalid syntax (<ipython-input-57-5fcf9dec3442>, line 2)",
     "output_type": "error",
     "traceback": [
      "\u001b[0;36m  File \u001b[0;32m\"<ipython-input-57-5fcf9dec3442>\"\u001b[0;36m, line \u001b[0;32m2\u001b[0m\n\u001b[0;31m    type(1a)\u001b[0m\n\u001b[0m          ^\u001b[0m\n\u001b[0;31mSyntaxError\u001b[0m\u001b[0;31m:\u001b[0m invalid syntax\n"
     ]
    }
   ],
   "source": [
    "# En este caso arroja un error de sintaxis, python no entiende esto.\n",
    "type(1a)"
   ]
  },
  {
   "cell_type": "code",
   "execution_count": 58,
   "metadata": {
    "collapsed": false
   },
   "outputs": [
    {
     "name": "stdout",
     "output_type": "stream",
     "text": [
      "python es poderosopython es poderosopython es poderosopython es poderosopython es poderoso\n"
     ]
    }
   ],
   "source": [
    "# Print también permite multiplicar las variables tipo caracter\n",
    "print(mi_variable*5)"
   ]
  },
  {
   "cell_type": "markdown",
   "metadata": {},
   "source": [
    "## Rebanadas de caracteres (`string` slicing)  \n",
    "- Cada caracter esta determinado por un número del 0 a n, donde n=total de carácteres.  \n",
    "- Para seleccionar cierta parte de un caracter se utilizan los [ ] y dentro se coloca la posición que se quiere _rebanar_, siempre comenzando por 0, por ejemplo, para:  \n",
    "    * var = \"abcdfe\" las pociciones de a es 0, b es 1 etc... hasta e que es 5.  \n",
    "      \n",
    "- Los siguientes ejemplos se basan en nuestra variable:  \n",
    "    * `var_3=\"python es poderoso, cierto?\"`  \n",
    "    * `p y t h o n   e s   p  o  d  e  r  o  s  o  ,      c  i  e  r  t  o ?`\n",
    "    * `0 1 2 3 4 5 6 7 8 9 10 11 12 13 14 15 16 17 18 19 20 21 22 23 24 25 26`"
   ]
  },
  {
   "cell_type": "code",
   "execution_count": 59,
   "metadata": {
    "collapsed": false
   },
   "outputs": [
    {
     "name": "stdout",
     "output_type": "stream",
     "text": [
      "ytho\n"
     ]
    }
   ],
   "source": [
    "print(var_3[1:5]) # selecciona los caracteres del 1 al 5"
   ]
  },
  {
   "cell_type": "code",
   "execution_count": 60,
   "metadata": {
    "collapsed": false
   },
   "outputs": [
    {
     "name": "stdout",
     "output_type": "stream",
     "text": [
      "?\n"
     ]
    }
   ],
   "source": [
    "print var_3[-1] # selecciona el caracter en cuenta regresiva"
   ]
  },
  {
   "cell_type": "code",
   "execution_count": 61,
   "metadata": {
    "collapsed": false
   },
   "outputs": [
    {
     "name": "stdout",
     "output_type": "stream",
     "text": [
      "ython es poderoso, cierto?\n"
     ]
    }
   ],
   "source": [
    "print var_3[1:] # Sin el primer caracter"
   ]
  },
  {
   "cell_type": "code",
   "execution_count": 62,
   "metadata": {
    "collapsed": false
   },
   "outputs": [
    {
     "name": "stdout",
     "output_type": "stream",
     "text": [
      "python es poderoso, cierto\n"
     ]
    }
   ],
   "source": [
    "print var_3[:-1] # Sin el último caracter caracter"
   ]
  },
  {
   "cell_type": "code",
   "execution_count": 63,
   "metadata": {
    "collapsed": false
   },
   "outputs": [
    {
     "name": "stdout",
     "output_type": "stream",
     "text": [
      "e\n"
     ]
    }
   ],
   "source": [
    "print var_3[-5]  # Al usar números negativos la seleccion se hace de atras hacia adelante"
   ]
  },
  {
   "cell_type": "code",
   "execution_count": 65,
   "metadata": {
    "collapsed": false
   },
   "outputs": [
    {
     "name": "stdout",
     "output_type": "stream",
     "text": [
      "erto\n"
     ]
    }
   ],
   "source": [
    "print var_3[-5:-1] #Siempre se pone el más negativo primero"
   ]
  },
  {
   "cell_type": "code",
   "execution_count": 140,
   "metadata": {
    "collapsed": false
   },
   "outputs": [
    {
     "name": "stdout",
     "output_type": "stream",
     "text": [
      "?\n"
     ]
    }
   ],
   "source": [
    "print var_3[-1:] # Aquí vamos del -1 caracter al espacio 0, o sea el último"
   ]
  },
  {
   "cell_type": "code",
   "execution_count": 141,
   "metadata": {
    "collapsed": false
   },
   "outputs": [
    {
     "name": "stdout",
     "output_type": "stream",
     "text": [
      "oso, ¿cierto?\n"
     ]
    }
   ],
   "source": [
    "print var_3[15:]  # Selecciona desde el 15 hasta el final"
   ]
  },
  {
   "cell_type": "code",
   "execution_count": 43,
   "metadata": {
    "collapsed": false
   },
   "outputs": [
    {
     "name": "stdout",
     "output_type": "stream",
     "text": [
      "pyth\n"
     ]
    }
   ],
   "source": [
    "print var_3[:4] # Secciona desde el carácter 0 a la 4, [:4] es igual que [0:4]"
   ]
  },
  {
   "cell_type": "markdown",
   "metadata": {},
   "source": [
    "**NOTA**: recuerda que aquí estamos imprimiendo las rebanadas, siempre puedes asignar el resultado a una nueva variable.  \n",
    "- En lugar de `print mi_variable[4:7]` lo asignas a una nueva así: `nueva_var=mi_variable[4:7]`  \n",
    "\n",
    "## Método de posición  para `strings`\n",
    "Para saber la posición de alguna `substring` utilizamos el método `str.find()` , por ejemplo recordando nuestra var_3  \n",
    "`python es poderoso, cierto?` queremos saber donde se localiza 'ode'"
   ]
  },
  {
   "cell_type": "code",
   "execution_count": 78,
   "metadata": {
    "collapsed": false
   },
   "outputs": [
    {
     "name": "stdout",
     "output_type": "stream",
     "text": [
      "python es poderoso, cierto?\n",
      "11\n",
      "cie\n"
     ]
    }
   ],
   "source": [
    "print var_3 #Aquí \n",
    "print var_3.find('ode')       # Index of substring or -1\n",
    "print var_3[11:14]"
   ]
  },
  {
   "cell_type": "markdown",
   "metadata": {},
   "source": [
    "## `len( )`  \n",
    "Es una función integrada en python que te regresa la longitud de tu variable, ya sea numérica o de tipo caracter."
   ]
  },
  {
   "cell_type": "code",
   "execution_count": 47,
   "metadata": {
    "collapsed": false
   },
   "outputs": [
    {
     "data": {
      "text/plain": [
       "29"
      ]
     },
     "execution_count": 47,
     "metadata": {},
     "output_type": "execute_result"
    }
   ],
   "source": [
    "len(var_3)"
   ]
  },
  {
   "cell_type": "markdown",
   "metadata": {},
   "source": [
    "## Tipos de datos y Operadores Ariméticos\n",
    "Son números enteros, se pueden usar operadores lógicos o arimeticos para trabajar con ellos."
   ]
  },
  {
   "cell_type": "code",
   "execution_count": 145,
   "metadata": {
    "collapsed": false
   },
   "outputs": [
    {
     "data": {
      "text/plain": [
       "25"
      ]
     },
     "execution_count": 145,
     "metadata": {},
     "output_type": "execute_result"
    }
   ],
   "source": [
    "# Aquí tenemos una suma de integrales\n",
    "1+3+5+7+9"
   ]
  },
  {
   "cell_type": "code",
   "execution_count": 147,
   "metadata": {
    "collapsed": false
   },
   "outputs": [
    {
     "data": {
      "text/plain": [
       "int"
      ]
     },
     "execution_count": 147,
     "metadata": {},
     "output_type": "execute_result"
    }
   ],
   "source": [
    "# La funcion type(var) regresa el tipo de variable\n",
    "type(1+3+5+7+9)"
   ]
  },
  {
   "cell_type": "code",
   "execution_count": 148,
   "metadata": {
    "collapsed": false
   },
   "outputs": [
    {
     "data": {
      "text/plain": [
       "True"
      ]
     },
     "execution_count": 148,
     "metadata": {},
     "output_type": "execute_result"
    }
   ],
   "source": [
    "# Operador condicional\n",
    "1+3+5+7+9 == 25"
   ]
  },
  {
   "cell_type": "code",
   "execution_count": 149,
   "metadata": {
    "collapsed": false
   },
   "outputs": [
    {
     "name": "stdout",
     "output_type": "stream",
     "text": [
      "(25.0, <type 'float'>)\n"
     ]
    }
   ],
   "source": [
    "# Si le agregamos un punto python inmediatamente transforma los datos a flotantes\n",
    "print (1+3.+5+7+9, type(1+3.+5+7+9))"
   ]
  },
  {
   "cell_type": "code",
   "execution_count": 150,
   "metadata": {
    "collapsed": false
   },
   "outputs": [
    {
     "data": {
      "text/plain": [
       "True"
      ]
     },
     "execution_count": 150,
     "metadata": {},
     "output_type": "execute_result"
    }
   ],
   "source": [
    "# Python puede evaluar números complejos los cuales estan compuestos de una parte real y una imáginaria\n",
    "z=5\n",
    "z == z.real + z.imag*1j"
   ]
  },
  {
   "cell_type": "code",
   "execution_count": 18,
   "metadata": {
    "collapsed": false
   },
   "outputs": [
    {
     "data": {
      "text/plain": [
       "complex"
      ]
     },
     "execution_count": 18,
     "metadata": {},
     "output_type": "execute_result"
    }
   ],
   "source": [
    "# Debido a su complejidad por ahora no los usaremos...\n",
    "type(z.imag*1j)"
   ]
  },
  {
   "cell_type": "code",
   "execution_count": 151,
   "metadata": {
    "collapsed": false
   },
   "outputs": [
    {
     "data": {
      "text/plain": [
       "False"
      ]
     },
     "execution_count": 151,
     "metadata": {},
     "output_type": "execute_result"
    }
   ],
   "source": [
    "# Operador condicional\n",
    "9!=9 # ¿nueve es diferente de nueve?"
   ]
  },
  {
   "cell_type": "code",
   "execution_count": 156,
   "metadata": {
    "collapsed": false
   },
   "outputs": [
    {
     "data": {
      "text/plain": [
       "4"
      ]
     },
     "execution_count": 156,
     "metadata": {},
     "output_type": "execute_result"
    }
   ],
   "source": [
    "# Operador arimetico\n",
    "13/3"
   ]
  },
  {
   "cell_type": "code",
   "execution_count": 155,
   "metadata": {
    "collapsed": false
   },
   "outputs": [
    {
     "data": {
      "text/plain": [
       "1"
      ]
     },
     "execution_count": 155,
     "metadata": {},
     "output_type": "execute_result"
    }
   ],
   "source": [
    "# Evaluar el residuo\n",
    "13%3"
   ]
  },
  {
   "cell_type": "code",
   "execution_count": 153,
   "metadata": {
    "collapsed": false
   },
   "outputs": [
    {
     "data": {
      "text/plain": [
       "1.5"
      ]
     },
     "execution_count": 153,
     "metadata": {},
     "output_type": "execute_result"
    }
   ],
   "source": [
    "# Es la misma operación anterior pero ahora con punto flotante\n",
    "3/2."
   ]
  },
  {
   "cell_type": "code",
   "execution_count": 3,
   "metadata": {
    "collapsed": false
   },
   "outputs": [
    {
     "data": {
      "text/plain": [
       "97"
      ]
     },
     "execution_count": 3,
     "metadata": {},
     "output_type": "execute_result"
    }
   ],
   "source": [
    "# Un ejemplo más concreto\n",
    "100 - 25 * 3 % 4"
   ]
  },
  {
   "cell_type": "code",
   "execution_count": 157,
   "metadata": {
    "collapsed": false
   },
   "outputs": [
    {
     "name": "stdout",
     "output_type": "stream",
     "text": [
      "0.0\n",
      "1.0\n",
      "0.0\n",
      "3.0\n"
     ]
    }
   ],
   "source": [
    "# Aquí se observa el remanente de dividir el primer número entre el segunto\n",
    "print 3 % 1\n",
    "print 3 % 2\n",
    "print 3 % 3\n",
    "print 3 % 4"
   ]
  },
  {
   "cell_type": "markdown",
   "metadata": {},
   "source": [
    "## Imprimir incluyendo una o más variables numericas dentro de una `string`\n",
    "En python se pueden imprimir variables y caracteres de diversas formas, la primera es incluyendo una variable con el simbolo % dentro del carácter, por ejemplo si tengo una variable X con un valor de 7."
   ]
  },
  {
   "cell_type": "code",
   "execution_count": 92,
   "metadata": {
    "collapsed": false
   },
   "outputs": [
    {
     "name": "stdout",
     "output_type": "stream",
     "text": [
      "El peso de pedro es 67.9 kg\n"
     ]
    }
   ],
   "source": [
    "p=67.9\n",
    "a=183\n",
    "# Concatenando las variables\n",
    "print \"El peso de pedro es\",p,\"kg\""
   ]
  },
  {
   "cell_type": "code",
   "execution_count": 93,
   "metadata": {
    "collapsed": false
   },
   "outputs": [
    {
     "name": "stdout",
     "output_type": "stream",
     "text": [
      "El peso de pedro es 67.9 kg\n",
      "El peso de pedro es 67.9 kg y mide 183 cm\n"
     ]
    }
   ],
   "source": [
    "# Impresion especial usando % para designar la posición de nuestra variable externa.\n",
    "print \"El peso de pedro es %s kg\" % p\n",
    "\n",
    "# De esta forma se pueden colocar más de una variables\n",
    "print \"El peso de pedro es %s kg y mide %s cm\" % (p,a)"
   ]
  },
  {
   "cell_type": "code",
   "execution_count": 95,
   "metadata": {
    "collapsed": false
   },
   "outputs": [
    {
     "name": "stdout",
     "output_type": "stream",
     "text": [
      "El peso de pedro es 67.9 kg y mide 183 cm\n"
     ]
    }
   ],
   "source": [
    "# La última forma es con la funcion format()\n",
    "print \"El peso de pedro es {0} kg y mide {1} cm\".format(p,a)"
   ]
  },
  {
   "cell_type": "markdown",
   "metadata": {
    "collapsed": false
   },
   "source": [
    "## Resumen de la clase:  \n",
    " - Funciones de python: `print( )`, `type( )`, `len( )`  \n",
    " - Métodos de manipulación de `strings` \n",
    " - String slicing  \n",
    " - Operadores ariméticos con `int` y `float`"
   ]
  }
 ],
 "metadata": {
  "kernelspec": {
   "display_name": "Python 2",
   "language": "python",
   "name": "python2"
  },
  "language_info": {
   "codemirror_mode": {
    "name": "ipython",
    "version": 2
   },
   "file_extension": ".py",
   "mimetype": "text/x-python",
   "name": "python",
   "nbconvert_exporter": "python",
   "pygments_lexer": "ipython2",
   "version": "2.7.12"
  }
 },
 "nbformat": 4,
 "nbformat_minor": 0
}
